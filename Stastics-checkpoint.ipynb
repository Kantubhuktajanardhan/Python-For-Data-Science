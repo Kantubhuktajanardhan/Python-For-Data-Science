{
 "cells": [
  {
   "cell_type": "markdown",
   "id": "530a2dd6",
   "metadata": {},
   "source": [
    "# Stastics \n"
   ]
  },
  {
   "cell_type": "markdown",
   "id": "62d17614",
   "metadata": {},
   "source": [
    "# Mean"
   ]
  },
  {
   "cell_type": "code",
   "execution_count": 1,
   "id": "f40f01b8",
   "metadata": {},
   "outputs": [],
   "source": [
    "marks=[24,23,19,13,12,25,15,19,23,10,21,25,15,23,17]"
   ]
  },
  {
   "cell_type": "code",
   "execution_count": 2,
   "id": "b8fa1e9c",
   "metadata": {},
   "outputs": [],
   "source": [
    "mean_marks=sum(marks)/len(marks)"
   ]
  },
  {
   "cell_type": "code",
   "execution_count": 3,
   "id": "0198400a",
   "metadata": {},
   "outputs": [
    {
     "name": "stdout",
     "output_type": "stream",
     "text": [
      "18.933333333333334\n"
     ]
    }
   ],
   "source": [
    "print(mean_marks)"
   ]
  },
  {
   "cell_type": "markdown",
   "id": "db40c34f",
   "metadata": {},
   "source": [
    "# Median "
   ]
  },
  {
   "cell_type": "code",
   "execution_count": 4,
   "id": "a0635eb4",
   "metadata": {},
   "outputs": [],
   "source": [
    "sorted_marks=sorted(marks)"
   ]
  },
  {
   "cell_type": "code",
   "execution_count": 5,
   "id": "7cbefd9a",
   "metadata": {},
   "outputs": [
    {
     "name": "stdout",
     "output_type": "stream",
     "text": [
      "[10, 12, 13, 15, 15, 17, 19, 19, 21, 23, 23, 23, 24, 25, 25]\n"
     ]
    }
   ],
   "source": [
    "print(sorted_marks)"
   ]
  },
  {
   "cell_type": "code",
   "execution_count": 7,
   "id": "7308b7b0",
   "metadata": {},
   "outputs": [
    {
     "name": "stdout",
     "output_type": "stream",
     "text": [
      "median is  19\n"
     ]
    }
   ],
   "source": [
    "if (len(sorted_marks) %2 != 0):\n",
    "    index = len(sorted_marks) //2 \n",
    "    print(\"median is \",sorted_marks[index])\n",
    "else:\n",
    "    index1=len(sorted_marks) //2\n",
    "    index2=index1+1\n",
    "    res=(sorted_marks[index1]+sorted_marks[index2]) / 2\n",
    "    print(\"median is \",res)\n",
    "    "
   ]
  },
  {
   "cell_type": "markdown",
   "id": "90b4c406",
   "metadata": {},
   "source": [
    "# Mode"
   ]
  },
  {
   "cell_type": "code",
   "execution_count": 9,
   "id": "4f117703",
   "metadata": {},
   "outputs": [],
   "source": [
    "dic={}\n",
    "for i in marks:\n",
    "    if(i in dic.keys()):\n",
    "        dic[i]+=1\n",
    "    else:\n",
    "        dic[i]=1"
   ]
  },
  {
   "cell_type": "code",
   "execution_count": 11,
   "id": "7b906a9a",
   "metadata": {
    "scrolled": true
   },
   "outputs": [
    {
     "name": "stdout",
     "output_type": "stream",
     "text": [
      "{24: 1, 23: 3, 19: 2, 13: 1, 12: 1, 25: 2, 15: 2, 10: 1, 21: 1, 17: 1}\n"
     ]
    }
   ],
   "source": [
    "print(dic)"
   ]
  },
  {
   "cell_type": "code",
   "execution_count": 14,
   "id": "85f62d93",
   "metadata": {
    "scrolled": true
   },
   "outputs": [],
   "source": [
    "_max=-10\n",
    "mode=None\n",
    "for k,v in dic.items():\n",
    "    if v>_max:\n",
    "        _max=v\n",
    "        mode=k"
   ]
  },
  {
   "cell_type": "code",
   "execution_count": 15,
   "id": "2d0ccefd",
   "metadata": {},
   "outputs": [
    {
     "name": "stdout",
     "output_type": "stream",
     "text": [
      "23\n"
     ]
    }
   ],
   "source": [
    "print(mode)"
   ]
  },
  {
   "cell_type": "markdown",
   "id": "56607e62",
   "metadata": {},
   "source": [
    "# Variance"
   ]
  },
  {
   "cell_type": "code",
   "execution_count": 16,
   "id": "565db2da",
   "metadata": {},
   "outputs": [
    {
     "name": "stdout",
     "output_type": "stream",
     "text": [
      "[24, 23, 19, 13, 12, 25, 15, 19, 23, 10, 21, 25, 15, 23, 17]\n"
     ]
    }
   ],
   "source": [
    "print(marks)"
   ]
  },
  {
   "cell_type": "code",
   "execution_count": 18,
   "id": "144d527d",
   "metadata": {},
   "outputs": [
    {
     "name": "stdout",
     "output_type": "stream",
     "text": [
      "23.4\n"
     ]
    }
   ],
   "source": [
    "_sum=0\n",
    "for i in marks:\n",
    "    _sum=_sum+(i-round(mean_marks))**2 \n",
    "var=_sum/len(marks)\n",
    "print(var)"
   ]
  },
  {
   "cell_type": "code",
   "execution_count": 19,
   "id": "4376ee49",
   "metadata": {},
   "outputs": [],
   "source": [
    "sd=var**0.5"
   ]
  },
  {
   "cell_type": "code",
   "execution_count": 20,
   "id": "953439e2",
   "metadata": {},
   "outputs": [
    {
     "name": "stdout",
     "output_type": "stream",
     "text": [
      "4.8373546489791295\n"
     ]
    }
   ],
   "source": [
    "print(sd)"
   ]
  },
  {
   "cell_type": "markdown",
   "id": "568ac4a6",
   "metadata": {},
   "source": [
    "# Standardization"
   ]
  },
  {
   "cell_type": "code",
   "execution_count": 21,
   "id": "60de6460",
   "metadata": {},
   "outputs": [
    {
     "name": "stdout",
     "output_type": "stream",
     "text": [
      "[24, 23, 19, 13, 12, 25, 15, 19, 23, 10, 21, 25, 15, 23, 17]\n"
     ]
    }
   ],
   "source": [
    "print(marks)"
   ]
  },
  {
   "cell_type": "code",
   "execution_count": 22,
   "id": "92dbb55e",
   "metadata": {},
   "outputs": [],
   "source": [
    "new_marks=[]\n",
    "for i in range(len(marks)):\n",
    "    m=(marks[i]-round(mean_marks))/sd\n",
    "    new_marks.append(m)"
   ]
  },
  {
   "cell_type": "code",
   "execution_count": 23,
   "id": "5d0528b8",
   "metadata": {},
   "outputs": [
    {
     "name": "stdout",
     "output_type": "stream",
     "text": [
      "[1.033622788243404, 0.8268982305947231, 0.0, -1.2403473458920846, -1.4470719035407653, 1.2403473458920846, -0.8268982305947231, 0.0, 0.8268982305947231, -1.860521018838127, 0.41344911529736156, 1.2403473458920846, -0.8268982305947231, 0.8268982305947231, -0.41344911529736156]\n"
     ]
    }
   ],
   "source": [
    "print(new_marks)"
   ]
  },
  {
   "cell_type": "code",
   "execution_count": 24,
   "id": "7f1de6bd",
   "metadata": {},
   "outputs": [],
   "source": [
    "new_mean_marks=sum(new_marks)/len(new_marks)"
   ]
  },
  {
   "cell_type": "code",
   "execution_count": 25,
   "id": "32724ada",
   "metadata": {},
   "outputs": [
    {
     "name": "stdout",
     "output_type": "stream",
     "text": [
      "-0.01378163717657871\n"
     ]
    }
   ],
   "source": [
    "print(new_mean_marks)"
   ]
  },
  {
   "cell_type": "code",
   "execution_count": 26,
   "id": "d57f4f04",
   "metadata": {},
   "outputs": [
    {
     "name": "stdout",
     "output_type": "stream",
     "text": [
      "0\n"
     ]
    }
   ],
   "source": [
    "print(round(new_mean_marks))"
   ]
  },
  {
   "cell_type": "code",
   "execution_count": null,
   "id": "77d5aead",
   "metadata": {},
   "outputs": [],
   "source": []
  }
 ],
 "metadata": {
  "kernelspec": {
   "display_name": "Python 3 (ipykernel)",
   "language": "python",
   "name": "python3"
  },
  "language_info": {
   "codemirror_mode": {
    "name": "ipython",
    "version": 3
   },
   "file_extension": ".py",
   "mimetype": "text/x-python",
   "name": "python",
   "nbconvert_exporter": "python",
   "pygments_lexer": "ipython3",
   "version": "3.11.5"
  }
 },
 "nbformat": 4,
 "nbformat_minor": 5
}
